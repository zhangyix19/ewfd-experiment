{
 "cells": [
  {
   "cell_type": "code",
   "execution_count": 3,
   "metadata": {},
   "outputs": [
    {
     "name": "stderr",
     "output_type": "stream",
     "text": [
      "training:  81%|████████  | 243/300 [09:15<02:10,  2.29s/it]\n"
     ]
    }
   ],
   "source": [
    "import os\n",
    "import time\n",
    "from os.path import join\n",
    "\n",
    "import numpy as np\n",
    "import torch\n",
    "from sklearn.model_selection import train_test_split\n",
    "from tensorboardX import SummaryWriter\n",
    "\n",
    "import attack as wfpattack\n",
    "from argparser import parse_taskname, trainparser\n",
    "from dataset import TraceDataset\n",
    "import joblib\n",
    "\n",
    "# prase arguments\n",
    "# args = trainparser().parse_args()\n",
    "for taskname in [\"meanfix10\", \"meanfix20\", \"meanfix40\", \"meanfix80\"]:\n",
    "    random_seed = 11\n",
    "    log_root = \"./run\"\n",
    "    ds_root = \"./data\"\n",
    "    dump_root = \"./data/dump\"\n",
    "    cache_root = \"./data/cache\"\n",
    "    time_str = time.strftime(\"%Y%m%d\", time.localtime())\n",
    "    taskname = taskname\n",
    "    log_dir = join(log_root, \"moving_average\", \"RF\", taskname)\n",
    "    dump_dir = join(dump_root, \"moving_average\", \"RF\", taskname)\n",
    "\n",
    "    attack: wfpattack.Attack = wfpattack.get_attack(\"RF\")(0, 100, 7)\n",
    "\n",
    "    datas = [joblib.load(f\"data/design/{taskname}.pkl\")]\n",
    "    ds_len = len(datas[0][\"labels\"])\n",
    "    train_slice, valid_slice = train_test_split(\n",
    "        [i for i in range(ds_len)], test_size=0.2, random_state=random_seed\n",
    "    )\n",
    "    train_features = attack.concat(\n",
    "        [data[\"traces\"][train_slice][i::2] for i, data in enumerate(datas)]\n",
    "    )\n",
    "    train_labels = attack.concat(\n",
    "        [data[\"labels\"][train_slice][i::2] for i, data in enumerate(datas)]\n",
    "    )\n",
    "    valid_features = attack.concat(\n",
    "        [data[\"traces\"][valid_slice][i::2] for i, data in enumerate(datas)]\n",
    "    )\n",
    "    valid_labels = attack.concat(\n",
    "        [data[\"labels\"][valid_slice][i::2] for i, data in enumerate(datas)]\n",
    "    )\n",
    "\n",
    "    attack.init_model()\n",
    "\n",
    "    writer = SummaryWriter(log_dir)\n",
    "    attack.train(\n",
    "        train_features,\n",
    "        train_labels,\n",
    "        valid_features,\n",
    "        valid_labels,\n",
    "        writer=writer,\n",
    "        save_root=dump_dir,\n",
    "    )"
   ]
  }
 ],
 "metadata": {
  "kernelspec": {
   "display_name": "wfp",
   "language": "python",
   "name": "python3"
  },
  "language_info": {
   "codemirror_mode": {
    "name": "ipython",
    "version": 3
   },
   "file_extension": ".py",
   "mimetype": "text/x-python",
   "name": "python",
   "nbconvert_exporter": "python",
   "pygments_lexer": "ipython3",
   "version": "3.12.2"
  }
 },
 "nbformat": 4,
 "nbformat_minor": 2
}
