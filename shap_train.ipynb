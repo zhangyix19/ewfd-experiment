{
 "cells": [
  {
   "cell_type": "code",
   "execution_count": null,
   "metadata": {},
   "outputs": [],
   "source": [
    "import os\n",
    "import time\n",
    "from os.path import join\n",
    "\n",
    "import numpy as np\n",
    "import torch\n",
    "from sklearn.model_selection import train_test_split\n",
    "from tensorboardX import SummaryWriter\n",
    "\n",
    "import attack as wfpattack\n",
    "from argparser import parse_taskname, trainparser\n",
    "from dataset import TraceDataset\n",
    "import joblib\n",
    "\n",
    "# prase arguments\n",
    "# args = trainparser().parse_args()\n",
    "\n",
    "random_seed = 11\n",
    "log_root = \"./run\"\n",
    "ds_root = \"./data\"\n",
    "dump_root = \"./data/dump\"\n",
    "cache_root = \"./data/cache\"\n",
    "time_str = time.strftime(\"%Y%m%d\", time.localtime())\n",
    "taskname = \"shap-undefend\"\n",
    "log_dir = join(log_root, time_str + \"shap\", \"RF\", taskname)\n",
    "dump_dir = join(dump_root, time_str + \"shap\", \"RF\", taskname)\n",
    "\n",
    "\n",
    "attack: wfpattack.Attack = wfpattack.get_attack(\"RF\")(0, 100, 0)\n",
    "\n",
    "data = np.load(\"data/shap/undefend.npz\")\n",
    "train_features = torch.tensor(data[\"features_train\"])\n",
    "train_labels = torch.tensor(data[\"labels_train\"])\n",
    "valid_features = torch.tensor(data[\"features_test\"])\n",
    "valid_labels = torch.tensor(data[\"labels_test\"])\n",
    "\n",
    "\n",
    "attack.init_model()\n",
    "\n",
    "writer = SummaryWriter(log_dir)\n",
    "attack.train(\n",
    "    train_features,\n",
    "    train_labels,\n",
    "    valid_features,\n",
    "    valid_labels,\n",
    "    writer=writer,\n",
    "    save_root=dump_dir,\n",
    ")"
   ]
  }
 ],
 "metadata": {
  "kernelspec": {
   "display_name": "wfp",
   "language": "python",
   "name": "python3"
  },
  "language_info": {
   "codemirror_mode": {
    "name": "ipython",
    "version": 3
   },
   "file_extension": ".py",
   "mimetype": "text/x-python",
   "name": "python",
   "nbconvert_exporter": "python",
   "pygments_lexer": "ipython3",
   "version": "3.12.2"
  }
 },
 "nbformat": 4,
 "nbformat_minor": 2
}
