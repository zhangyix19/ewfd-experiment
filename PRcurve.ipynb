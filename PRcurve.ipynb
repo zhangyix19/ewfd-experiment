{
 "cells": [
  {
   "cell_type": "code",
   "execution_count": null,
   "metadata": {},
   "outputs": [],
   "source": [
    "import csv\n",
    "\n",
    "import joblib\n",
    "import numpy as np\n",
    "\n",
    "eps = 1e-6\n",
    "\n",
    "\n",
    "def score_func_precision_recall(eval_result_path, outputpath):\n",
    "    data = joblib.load(eval_result_path)\n",
    "    y_pred, y_true, unmon_label = data[\"y_pred\"], data[\"y_true\"], data[\"unmonitored_label\"]\n",
    "    y_pred = np.exp(y_pred) / (np.exp(y_pred).sum(axis=1)).reshape(-1, 1)\n",
    "    file = open(outputpath, \"w+\", encoding=\"utf-8\", newline=\"\")\n",
    "    csvwirter = csv.writer(file)\n",
    "    upper_bound = 1.0\n",
    "    thresholds = upper_bound - upper_bound / np.logspace(0.05, 2, num=15, endpoint=True)\n",
    "    csvwirter.writerow([\"TH\", \"TP\", \"TN\", \"FP\", \"FN\", \"Precision\", \"Recall\"])\n",
    "    fmt_str = \"{:.2f}:\\t{}\\t{}\\t{}\\t{}\\t{:.3f}\\t{:.3f}\"\n",
    "\n",
    "    # evaluate list performance at different thresholds\n",
    "    # high threshold will yield higher precision, but reduced recall\n",
    "    for TH in thresholds:\n",
    "        TP, FP, TN, FN = 0, 0, 0, 0\n",
    "\n",
    "        # Test with Monitored testing instances\n",
    "        for i in range(len(y_pred)):\n",
    "            ground_truths = y_true.argmax(axis=1)[i]\n",
    "            sm_vector = y_pred[i]\n",
    "            predicted_class = np.argmax(sm_vector)\n",
    "            max_prob = max(sm_vector)\n",
    "            if ground_truths != unmon_label:\n",
    "                if predicted_class == ground_truths:  # predicted as Monitored\n",
    "                    if max_prob >= TH:  # predicted as Monitored and actual site is Monitored\n",
    "                        TP = TP + 1\n",
    "                    else:  # predicted as Unmonitored and actual site is Monitored\n",
    "                        FN = FN + 1\n",
    "                else:  # predicted as Unmonitored and actual site is Monitored\n",
    "                    FN = FN + 1\n",
    "            else:\n",
    "                if predicted_class != unmon_label:  # predicted as Monitored\n",
    "                    if max_prob >= TH:  # predicted as Monitored and actual site is Unmonitored\n",
    "                        FP = FP + 1\n",
    "                    else:  # predicted as Unmonitored and actual site is Unmonitored\n",
    "                        TN = TN + 1\n",
    "                else:  # predicted as Unmonitored and actual site is Unmonitored\n",
    "                    TN = TN + 1\n",
    "        res = [TH, TP, TN, FP, FN, float(TP) / (TP + FP + eps), float(TP) / (TP + FN + eps)]\n",
    "        print(fmt_str.format(*res))\n",
    "        csvwirter.writerow(res)\n",
    "\n",
    "    file.close()\n",
    "\n",
    "\n",
    "import matplotlib.pyplot as plt\n",
    "import pandas as pd\n",
    "\n",
    "\n",
    "def draw_pr_curve(csv_paths):\n",
    "    fig, ax = plt.subplots(figsize=(5, 4))\n",
    "    for csv_path in csv_paths:\n",
    "        df = pd.read_csv(csv_path)\n",
    "        ax.plot(\n",
    "            df[\"Recall\"],\n",
    "            df[\"Precision\"],\n",
    "            label=csv_path.split(\"/\")[-1].split(\".\")[0],\n",
    "            lw=2,\n",
    "            marker=\".\",\n",
    "        )\n",
    "    plt.legend()\n",
    "    plt.xlim([-0.05, 1.05])\n",
    "    plt.ylim([0.1, 1.05])\n",
    "    plt.xlabel(\"Recall\")\n",
    "    plt.ylabel(\"Precision\")\n",
    "    plt.title(\"PR Curve\")\n",
    "    plt.show()\n",
    "    return"
   ]
  },
  {
   "cell_type": "code",
   "execution_count": null,
   "metadata": {},
   "outputs": [],
   "source": [
    "score_func_precision_recall(\"run/test/20240322testow/ours/RF/front/front.pkl\", \"log/pr_front\")\n",
    "score_func_precision_recall(\"run/test/20240322testow/ours/RF/empty/empty.pkl\", \"log/pr_empty\")"
   ]
  },
  {
   "cell_type": "code",
   "execution_count": null,
   "metadata": {},
   "outputs": [],
   "source": [
    "draw_pr_curve([\"log/pr_front\", \"log/pr_empty\"])"
   ]
  }
 ],
 "metadata": {
  "kernelspec": {
   "display_name": "pytorch",
   "language": "python",
   "name": "python3"
  },
  "language_info": {
   "codemirror_mode": {
    "name": "ipython",
    "version": 3
   },
   "file_extension": ".py",
   "mimetype": "text/x-python",
   "name": "python",
   "nbconvert_exporter": "python",
   "pygments_lexer": "ipython3",
   "version": "3.12.2"
  }
 },
 "nbformat": 4,
 "nbformat_minor": 2
}
