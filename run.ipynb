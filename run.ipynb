{
 "cells": [
  {
   "cell_type": "code",
   "execution_count": null,
   "metadata": {},
   "outputs": [],
   "source": [
    "import subprocess\n",
    "from time import sleep\n",
    "\n",
    "import numpy as np\n",
    "import pynvml\n",
    "from tqdm import tqdm\n",
    "\n",
    "pynvml.nvmlInit()\n",
    "\n",
    "\n",
    "def get_free_MB(i):\n",
    "    handle = pynvml.nvmlDeviceGetHandleByIndex(i)\n",
    "    return pynvml.nvmlDeviceGetMemoryInfo(handle).free / 1024 / 1024\n",
    "\n",
    "\n",
    "def get_avail_gpu(size=10000):\n",
    "    num = pynvml.nvmlDeviceGetCount()\n",
    "    free = []\n",
    "    for _ in range(60):\n",
    "        sleep(1)\n",
    "        free.append([get_free_MB(i) for i in range(num)])\n",
    "    free = np.array(free).T.tolist()\n",
    "    avail_gpus = []\n",
    "    for i in range(num):\n",
    "        if i == 3:\n",
    "            continue\n",
    "        if min(free[i]) > size:\n",
    "            avail_gpus.append(i)\n",
    "    return avail_gpus"
   ]
  },
  {
   "cell_type": "code",
   "execution_count": null,
   "metadata": {},
   "outputs": [],
   "source": [
    "get_free_MB(4)"
   ]
  },
  {
   "cell_type": "code",
   "execution_count": null,
   "metadata": {},
   "outputs": [],
   "source": [
    "tasks = []\n",
    "\n",
    "for gan in [2, 4, 6, 8, 10]:\n",
    "    for tol in [30, 35, 40, 45, 50, 55, 60, 65, 70, 75, 80, 85, 90, 95]:\n",
    "        tasks.append((f\"switch_gan{gan:02d}_tol{tol}_front{10-gan:02d}\", \"switch_gan_front\"))\n",
    "for p in [\"equal\", \"random\"]:\n",
    "    for tamaraw in range(2):\n",
    "        for regulartor in range(2):\n",
    "            for front in range(2):\n",
    "                for wfgan in range(2):\n",
    "                    if tamaraw + regulartor + front + wfgan > 0:\n",
    "                        name = f\"switch_{p}\"\n",
    "                        if front:\n",
    "                            name += \"_front\"\n",
    "                        if wfgan:\n",
    "                            name += \"_wfgan\"\n",
    "                        if tamaraw:\n",
    "                            name += \"_tamaraw\"\n",
    "                        if regulartor:\n",
    "                            name += \"_regulartor\"\n",
    "                        tasks.append((name, f\"switch_{p}\"))"
   ]
  },
  {
   "cell_type": "code",
   "execution_count": null,
   "metadata": {},
   "outputs": [],
   "source": [
    "avail_gpus = []\n",
    "for task, note in tqdm(tasks):\n",
    "    if not avail_gpus:\n",
    "        while not (avail_gpus := get_avail_gpu()):\n",
    "            pass\n",
    "    else:\n",
    "        gpu = avail_gpus.pop()\n",
    "        subprocess.Popen(f\"python train.py --train {task} --note {note} -g {gpu}\", shell=True)"
   ]
  }
 ],
 "metadata": {
  "kernelspec": {
   "display_name": "wfp",
   "language": "python",
   "name": "python3"
  },
  "language_info": {
   "codemirror_mode": {
    "name": "ipython",
    "version": 3
   },
   "file_extension": ".py",
   "mimetype": "text/x-python",
   "name": "python",
   "nbconvert_exporter": "python",
   "pygments_lexer": "ipython3",
   "version": "3.12.2"
  }
 },
 "nbformat": 4,
 "nbformat_minor": 2
}
