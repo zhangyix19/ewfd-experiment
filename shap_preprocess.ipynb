{
 "cells": [
  {
   "cell_type": "code",
   "execution_count": 1,
   "metadata": {},
   "outputs": [],
   "source": [
    "import os\n",
    "\n",
    "import joblib\n",
    "import numpy as np\n",
    "import shap\n",
    "import torch\n",
    "from sklearn.model_selection import train_test_split\n",
    "from tqdm import tqdm\n",
    "\n",
    "import attack as wfpattack\n",
    "from argparser import shap_parser\n",
    "from dataset import get_ds"
   ]
  },
  {
   "cell_type": "code",
   "execution_count": 2,
   "metadata": {},
   "outputs": [
    {
     "name": "stdout",
     "output_type": "stream",
     "text": [
      "Loading test dataset...\n",
      "Try to load cached cell level data from data/cell_level/ours.npz if existed\n",
      "Try to load cached undefend defended data from data/defended/ours/undefend_cell_level_334748706e754c84084d1402aab45a49.npz if existed\n",
      "Preparing data...\n",
      "Try to load cached processed data from data/cache/ours_RF_undefend_7668e723c0c41931e186c2ccc27cdaaa.pkl if existed\n"
     ]
    },
    {
     "name": "stderr",
     "output_type": "stream",
     "text": [
      "Preprocessing RF features: 100%|██████████| 10000/10000 [00:07<00:00, 1420.38it/s]\n"
     ]
    },
    {
     "name": "stdout",
     "output_type": "stream",
     "text": [
      "Saving processed data to data/cache/ours_RF_undefend_7668e723c0c41931e186c2ccc27cdaaa.pkl\n",
      "Evaluating...\n"
     ]
    }
   ],
   "source": [
    "# prase arguments\n",
    "# args = shap_parser().parse_args()\n",
    "random_seed = 11\n",
    "ds_root = \"./data\"\n",
    "cache_root = \"./data/cache\"\n",
    "# attack_name = args.attack\n",
    "# note = args.note\n",
    "# train = args.train\n",
    "# dataset = args.dataset\n",
    "# model_epoch = args.epoch\n",
    "attack_name = \"RF\"\n",
    "note = \"base\"\n",
    "train = \"undefend\"\n",
    "dataset = \"undefend\"\n",
    "model_epoch = 0\n",
    "model_dir = f\"data/dump/{note}/{attack_name}/train_{dataset}_d{train}\"\n",
    "assert os.path.exists(model_dir), model_dir\n",
    "\n",
    "print(\"Loading test dataset...\")\n",
    "ds = get_ds(\"ours\")\n",
    "ds.load_defended(train)\n",
    "num_classes = ds.num_classes()\n",
    "attack: wfpattack.DNNAttack = wfpattack.get_attack(attack_name)(10000, num_classes, 3)\n",
    "\n",
    "\n",
    "ds_len = len(ds)\n",
    "\n",
    "train_slice, test_slice = train_test_split(\n",
    "    [i for i in range(ds_len)], test_size=0.2, random_state=random_seed\n",
    ")\n",
    "\n",
    "\n",
    "print(\"Preparing data...\")\n",
    "\n",
    "data = ds.get_cached_data(attack)\n",
    "\n",
    "\n",
    "attack.init_model()\n",
    "print(\"Evaluating...\")\n",
    "result = attack.evaluate(\n",
    "    data[\"traces\"],\n",
    "    data[\"labels\"],\n",
    "    load_dir=model_dir,\n",
    "    epoch=model_epoch,\n",
    "    data=True,\n",
    ")\n",
    "assert isinstance(result, tuple) and len(result) == 3\n",
    "metrics_dict, y_true, y_pred = result\n",
    "y_true = y_true.argmax(axis=1)\n",
    "y_pred = y_pred.argmax(axis=1)\n",
    "\n",
    "train_features, train_labels, train_pred = (\n",
    "    data[\"traces\"][train_slice],\n",
    "    y_true[train_slice],\n",
    "    y_pred[train_slice],\n",
    ")\n",
    "test_features, test_labels, test_pred = (\n",
    "    data[\"traces\"][test_slice],\n",
    "    y_true[test_slice],\n",
    "    y_pred[test_slice],\n",
    ")\n",
    "good_features = test_features[test_labels == test_pred]\n",
    "good_labels = test_labels[test_labels == test_pred]"
   ]
  },
  {
   "cell_type": "code",
   "execution_count": null,
   "metadata": {},
   "outputs": [],
   "source": [
    "device = attack.device\n",
    "model = attack.model\n",
    "model.eval()"
   ]
  },
  {
   "cell_type": "code",
   "execution_count": 41,
   "metadata": {},
   "outputs": [
    {
     "data": {
      "text/plain": [
       "95"
      ]
     },
     "execution_count": 41,
     "metadata": {},
     "output_type": "execute_result"
    }
   ],
   "source": [
    "idx = np.random.randint(good_labels.shape[0])\n",
    "print({idx=})\n",
    "label = good_labels[idx]\n",
    "input = good_features[idx].unsqueeze(0).to(attack.device)"
   ]
  },
  {
   "cell_type": "code",
   "execution_count": 40,
   "metadata": {},
   "outputs": [
    {
     "data": {
      "text/plain": [
       "([array([[[[ 6.44095189e-06,  1.17870923e-05, -1.15248549e-05, ...,\n",
       "             1.18708705e-08, -2.89150694e-06, -1.77482143e-03],\n",
       "           [-4.36257505e-06,  4.43200815e-06,  1.15236730e-06, ...,\n",
       "             6.83538892e-05,  1.61654680e-05,  9.43537278e-04]]]])],\n",
       " tensor([[31]], device='cuda:3'))"
      ]
     },
     "execution_count": 40,
     "metadata": {},
     "output_type": "execute_result"
    }
   ],
   "source": [
    "# shap\n",
    "bg_features = []\n",
    "for label in range(num_classes):\n",
    "    features = good_features[good_labels == label]\n",
    "    bg_features.append(features[:2])\n",
    "    # test_traces[label] = traces[2:]\n",
    "bg_features = torch.cat(bg_features, dim=0)\n",
    "explainer = shap.DeepExplainer(model, bg_features.to(device))\n",
    "shap_value = explainer.shap_values(input, ranked_outputs=1, check_additivity=False)\n",
    "\n",
    "# IntegratedGradients\n",
    "from captum.attr import IntegratedGradients\n",
    "\n",
    "integrated_gradients = IntegratedGradients(attack.model)\n",
    "attributions_ig = (\n",
    "    integrated_gradients.attribute(input, target=31, n_steps=200).squeeze().cpu().detach().numpy()\n",
    ")"
   ]
  },
  {
   "cell_type": "code",
   "execution_count": 29,
   "metadata": {},
   "outputs": [
    {
     "data": {
      "image/png": "[encoded data removed]",
      "text/plain": [
       "<Figure size 600x600 with 2 Axes>"
      ]
     },
     "metadata": {},
     "output_type": "display_data"
    }
   ],
   "source": [
    "from captum.attr import visualization as viz\n",
    "\n",
    "_ = viz.visualize_image_attr(\n",
    "    attributions_ig.squeeze().cpu().detach().numpy().reshape(40, 90, 1),\n",
    "    method=\"heat_map\",\n",
    "    # cmap=default_cmap,\n",
    "    show_colorbar=True,\n",
    "    sign=\"positive\",\n",
    "    outlier_perc=1,\n",
    ")"
   ]
  },
  {
   "cell_type": "code",
   "execution_count": null,
   "metadata": {},
   "outputs": [],
   "source": [
    "for label in tqdm(range(num_classes)):\n",
    "    features = test_features[test_labels == label]\n",
    "    labels = test_labels[test_labels == label]\n",
    "    pred = test_pred[test_labels == label]\n",
    "    shap_values = explainer.shap_values(features.to(device))\n",
    "    np.savez(\n",
    "        f\"data/shap/test-{label}\",\n",
    "        features=features,\n",
    "        labels=labels,\n",
    "        pred=pred,\n",
    "        shap_values=shap_values,\n",
    "    )\n",
    "for label in tqdm(range(num_classes)):\n",
    "    features = train_features[train_labels == label]\n",
    "    labels = train_labels[train_labels == label]\n",
    "    pred = train_pred[train_labels == label]\n",
    "    shap_values = explainer.shap_values(features.to(device))\n",
    "    np.savez(\n",
    "        f\"data/shap/train-{label}\",\n",
    "        features=features,\n",
    "        labels=labels,\n",
    "        pred=pred,\n",
    "        shap_values=shap_values,\n",
    "    )"
   ]
  },
  {
   "cell_type": "code",
   "execution_count": null,
   "metadata": {},
   "outputs": [],
   "source": [
    "import os\n",
    "import numpy as np\n",
    "\n",
    "\n",
    "def read_npz(mode, label):\n",
    "    data = np.load(f\"data/shap/{mode}-{label}.npz\")\n",
    "    output_dir = f\"data/shap/undefend/{mode}/{label}/\"\n",
    "    if not os.path.exists(output_dir):\n",
    "        os.makedirs(output_dir)\n",
    "    np.save(output_dir + \"features\", data[\"features\"])\n",
    "    np.save(output_dir + \"labels\", data[\"labels\"])\n",
    "    np.save(output_dir + \"preds\", data[\"pred\"])\n",
    "    shap_values = data[\"shap_values\"]\n",
    "    for i in range(len(shap_values)):\n",
    "        np.save(output_dir + f\"shap_values-{i}\", shap_values[i])\n",
    "\n",
    "\n",
    "from joblib import Parallel, delayed\n",
    "\n",
    "for mode in [\"train\", \"test\"]:\n",
    "\n",
    "    Parallel(n_jobs=20, verbose=10)(delayed(read_npz)(mode, label) for label in range(100))"
   ]
  }
 ],
 "metadata": {
  "kernelspec": {
   "display_name": "pytorch",
   "language": "python",
   "name": "python3"
  },
  "language_info": {
   "codemirror_mode": {
    "name": "ipython",
    "version": 3
   },
   "file_extension": ".py",
   "mimetype": "text/x-python",
   "name": "python",
   "nbconvert_exporter": "python",
   "pygments_lexer": "ipython3",
   "version": "3.12.2"
  }
 },
 "nbformat": 4,
 "nbformat_minor": 2
}
