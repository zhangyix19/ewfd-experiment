{
 "cells": [
  {
   "cell_type": "code",
   "execution_count": 8,
   "metadata": {},
   "outputs": [],
   "source": [
    "import os\n",
    "test_dir = \"run/test\"\n",
    "note=\"20240202tamarawparam\"\n",
    "dataset=\"undefend\"\n",
    "workdir = os.path.join(test_dir, note, dataset)\n",
    "def name(d):\n",
    "    return d[:-len(\"_moderate\")]\n",
    "defenses=[f\"tamaraw_1{i}_moderate\" for i in range(1,6)]+[f\"tamaraw_2{i}_moderate\" for i in range(1,6)]"
   ]
  },
  {
   "cell_type": "code",
   "execution_count": 9,
   "metadata": {},
   "outputs": [],
   "source": [
    "import pandas as pd\n",
    "acc = pd.DataFrame(columns=[\"test-\"+i for i in map(name, defenses)],index=[\"train-\"+i for i in map(name, defenses)])"
   ]
  },
  {
   "cell_type": "code",
   "execution_count": 10,
   "metadata": {},
   "outputs": [],
   "source": [
    "for train in defenses:\n",
    "    test=train\n",
    "    with open(os.path.join(workdir,train,f\"{test}.log\")) as f:\n",
    "        log = f.read()\n",
    "    result = eval(log)\n",
    "    acc.loc[\"train-\"+name(train),\"test-\"+name(test)] = result[\"accuracy\"]"
   ]
  }
 ],
 "metadata": {
  "kernelspec": {
   "display_name": "pytorch",
   "language": "python",
   "name": "python3"
  },
  "language_info": {
   "codemirror_mode": {
    "name": "ipython",
    "version": 3
   },
   "file_extension": ".py",
   "mimetype": "text/x-python",
   "name": "python",
   "nbconvert_exporter": "python",
   "pygments_lexer": "ipython3",
   "version": "3.10.11"
  }
 },
 "nbformat": 4,
 "nbformat_minor": 2
}
