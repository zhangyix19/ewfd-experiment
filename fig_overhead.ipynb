{
 "cells": [
  {
   "cell_type": "code",
   "execution_count": null,
   "metadata": {},
   "outputs": [],
   "source": [
    "import pandas as pd\n",
    "data=pd.read_csv('csv/gan.csv')"
   ]
  },
  {
   "cell_type": "code",
   "execution_count": null,
   "metadata": {},
   "outputs": [],
   "source": [
    "base_acc=0.9325\n",
    "data['time_score']=data['time']/-(data['acc']-base_acc)\n",
    "data['data_score']=data['data']/-(data['acc']-base_acc)"
   ]
  },
  {
   "cell_type": "code",
   "execution_count": null,
   "metadata": {},
   "outputs": [],
   "source": [
    "import matplotlib.pyplot as plt\n",
    "defenses=[]\n",
    "for name in data['name']:\n",
    "    if name.split('_')[0] not in defenses:\n",
    "        defenses.append(name.split('_')[0])\n",
    "plt.figure()\n",
    "for defense in defenses:\n",
    "    X = data[data['name'].apply(lambda x:x.startswith(defense))]['time_score']\n",
    "    Y = data[data['name'].apply(lambda x:x.startswith(defense))]['data_score']\n",
    "    plt.scatter(X,Y,label=defense)\n",
    "plt.xlabel('time_per_acc_drop')\n",
    "plt.ylabel('data_per_acc_drop')\n",
    "# plt.xscale('log') \n",
    "# plt.yscale('log') \n",
    "plt.legend()\n",
    "plt.show()"
   ]
  }
 ],
 "metadata": {
  "kernelspec": {
   "display_name": "pytorch",
   "language": "python",
   "name": "python3"
  },
  "language_info": {
   "codemirror_mode": {
    "name": "ipython",
    "version": 3
   },
   "file_extension": ".py",
   "mimetype": "text/x-python",
   "name": "python",
   "nbconvert_exporter": "python",
   "pygments_lexer": "ipython3",
   "version": "3.10.11"
  }
 },
 "nbformat": 4,
 "nbformat_minor": 2
}
