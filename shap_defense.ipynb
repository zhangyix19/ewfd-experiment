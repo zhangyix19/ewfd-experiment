{
 "cells": [
  {
   "cell_type": "code",
   "execution_count": 1,
   "metadata": {},
   "outputs": [],
   "source": [
    "from os.path import join\n",
    "import numpy as np\n",
    "\n",
    "\n",
    "def get_data(mode, label):\n",
    "    base = \"data/shap/undefend\"\n",
    "    return (\n",
    "        np.load(join(base, mode, str(label), \"features.npy\")),\n",
    "        np.load(join(base, mode, str(label), \"labels.npy\")),\n",
    "        np.load(join(base, mode, str(label), \"preds.npy\")),\n",
    "        np.load(join(base, mode, str(label), f\"shap_values-{label}.npy\")),\n",
    "    )"
   ]
  },
  {
   "cell_type": "code",
   "execution_count": 2,
   "metadata": {},
   "outputs": [],
   "source": [
    "features_all = {\"train\": [], \"test\": []}\n",
    "labels_all = {\"train\": [], \"test\": []}\n",
    "for mode in [\"train\", \"test\"]:\n",
    "    for label in range(100):\n",
    "\n",
    "        features, labels, preds, shap_values = get_data(mode, label)\n",
    "        # wrong instances\n",
    "        features_wrong = features[labels != preds].copy()\n",
    "        # features_all.append(features_wrong)\n",
    "        # right instances\n",
    "        features_right = features[labels == preds].copy()\n",
    "        shap_right = shap_values[labels == preds]\n",
    "        assert shap_right.shape == features_right.shape\n",
    "\n",
    "        important = features_right[shap_right > np.percentile(shap_right, 100 - 100 / 36)].copy()\n",
    "        mask = important < np.random.uniform(1, 100, important.shape)\n",
    "        features_right[shap_right > np.percentile(shap_right, 100 - 100 / 36)] += np.random.uniform(\n",
    "            1, 10, important.shape\n",
    "        ).astype(np.int32) + mask * np.random.uniform(1, 90, important.shape).astype(np.int32)\n",
    "        # features_right[shap_right > 0.01] = 0\n",
    "        # features_all.append(features_right)\n",
    "        # labels_all.append(labels.copy())\n",
    "        features_all[mode].append(features_wrong)\n",
    "        features_all[mode].append(features_right)\n",
    "        labels_all[mode].append(labels.copy())\n",
    "    features_all[mode] = np.concatenate(features_all[mode], axis=0)\n",
    "    labels_all[mode] = np.concatenate(labels_all[mode], axis=0)\n",
    "# features_all = np.concatenate(features_all, axis=0)\n",
    "# labels_all = np.concatenate(labels_all, axis=0)\n",
    "np.savez(\n",
    "    \"data/shap/deepexplainer-new.npz\",\n",
    "    features_train=features_all[\"train\"],\n",
    "    labels_train=labels_all[\"train\"],\n",
    "    features_test=features_all[\"test\"],\n",
    "    labels_test=labels_all[\"test\"],\n",
    ")"
   ]
  },
  {
   "cell_type": "code",
   "execution_count": null,
   "metadata": {},
   "outputs": [],
   "source": [
    "import matplotlib.pyplot as plt\n",
    "import numpy as np\n",
    "\n",
    "fig, ax = plt.subplots()\n",
    "ax.hist(tmp[tmp > 0].flatten(), bins=10 ** (np.arange(0, 10)) / 10**10)\n",
    "# log scale\n",
    "ax.set_xscale(\"log\")\n",
    "plt.show()"
   ]
  }
 ],
 "metadata": {
  "kernelspec": {
   "display_name": "wfp",
   "language": "python",
   "name": "python3"
  },
  "language_info": {
   "codemirror_mode": {
    "name": "ipython",
    "version": 3
   },
   "file_extension": ".py",
   "mimetype": "text/x-python",
   "name": "python",
   "nbconvert_exporter": "python",
   "pygments_lexer": "ipython3",
   "version": "3.12.2"
  }
 },
 "nbformat": 4,
 "nbformat_minor": 2
}
