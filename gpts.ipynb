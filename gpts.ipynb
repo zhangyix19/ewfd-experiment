{
 "cells": [
  {
   "cell_type": "code",
   "execution_count": 1,
   "metadata": {},
   "outputs": [],
   "source": [
    "from pathlib import Path\n",
    "import numpy as np\n",
    "from collections import Counter\n",
    "import json\n",
    "root = Path(\"data/extracted\")\n",
    "num = 90\n",
    "t_len = 5000\n",
    "label_set = set()\n",
    "ds_list = [\"gpts\"]\n",
    "for ds in ds_list:\n",
    "    path = root / (ds+\".npz\")\n",
    "    data = np.load(path, allow_pickle=True)\n",
    "    c = Counter(data[\"labels\"])\n",
    "    enough_labels = {k for k,v in c.items() if v >= num}\n",
    "    label_set = label_set & enough_labels if label_set else enough_labels"
   ]
  },
  {
   "cell_type": "code",
   "execution_count": 32,
   "metadata": {},
   "outputs": [
    {
     "data": {
      "text/plain": [
       "100"
      ]
     },
     "execution_count": 32,
     "metadata": {},
     "output_type": "execute_result"
    }
   ],
   "source": [
    "len(label_set)"
   ]
  },
  {
   "cell_type": "code",
   "execution_count": 28,
   "metadata": {},
   "outputs": [],
   "source": [
    "label2idx = {k:i for i,k in enumerate(label_set)}\n",
    "json.dump(label2idx, open(\"data/wflibdata/gpts.json\",\"w\"))\n",
    "for ds in ds_list:\n",
    "    path = root / (ds+\".npz\")\n",
    "    data = np.load(path, allow_pickle=True)\n",
    "    traces,labels = data[\"traces\"],data[\"labels\"]\n",
    "    final_indices = []\n",
    "    for label in label_set:\n",
    "        indices = np.where(labels==label)[0]\n",
    "        np.random.shuffle(indices)\n",
    "        final_indices.extend(indices[:100])\n",
    "    ds_size = len(final_indices)\n",
    "    X = np.zeros((ds_size,t_len))\n",
    "    y = np.zeros(ds_size)\n",
    "    for i, idx in enumerate(final_indices):\n",
    "        t = traces[idx]\n",
    "        trace = (t[:,0]-t[0,0]+1)*t[:,1]\n",
    "        X[i] = trace[:t_len]if len(trace) >= t_len else np.pad(trace,(0,t_len-len(trace)))\n",
    "        y[i] = label2idx[labels[idx]]\n",
    "    np.savez(Path(\"data/wflibdata\")/(ds+\"1.npz\"),X=X,y=y)"
   ]
  },
  {
   "cell_type": "code",
   "execution_count": 20,
   "metadata": {},
   "outputs": [],
   "source": [
    "label2idx = {k:i for i,k in enumerate(label_set)}\n",
    "json.dump(label2idx, open(\"data/wflibdata/gpts_full_info.json\",\"w\"))\n",
    "for ds in ds_list:\n",
    "    path = root / (ds+\".npz\")\n",
    "    data = np.load(path, allow_pickle=True)\n",
    "    traces,labels = data[\"traces\"],data[\"labels\"]\n",
    "    final_indices = []\n",
    "    for label in label_set:\n",
    "        indices = np.where(labels==label)[0]\n",
    "        np.random.shuffle(indices)\n",
    "        final_indices.extend(indices[:100])\n",
    "    ds_size = len(final_indices)\n",
    "    X_ts = np.zeros((ds_size,t_len),dtype=np.float32)\n",
    "    X_dir = np.zeros((ds_size,t_len),dtype=np.int32)\n",
    "    X_size = np.zeros((ds_size,t_len),dtype=np.int32)\n",
    "    y = np.zeros(ds_size)\n",
    "    for i, idx in enumerate(final_indices):\n",
    "        t = traces[idx]\n",
    "        trace_ts = t[:,0]-t[0,0]\n",
    "        X_ts[i] = trace_ts[:t_len]if len(trace_ts) >= t_len else np.pad(trace_ts,(0,t_len-len(trace_ts)))\n",
    "        trace_dir = t[:,1]\n",
    "        X_dir[i] = trace_dir[:t_len]if len(trace_dir) >= t_len else np.pad(trace_dir,(0,t_len-len(trace_dir)))\n",
    "        trace_size = t[:,2]\n",
    "        X_size[i] = trace_size[:t_len] if len(trace_size) >= t_len else np.pad(trace_size,(0,t_len-len(trace_dir)))\n",
    "        y[i] = label2idx[labels[idx]]\n",
    "    np.savez(Path(\"data/wflibdata\")/(ds+\"_full_info.npz\"),ts=X_ts,dir=X_dir,size=X_size,y=y)\n",
    "    np.savez(Path(\"data/wflibdata\")/(ds+\"_combined.npz\"),X=np.stack([X_ts,X_dir,X_size],axis=-1),y=y)"
   ]
  },
  {
   "cell_type": "code",
   "execution_count": 50,
   "metadata": {},
   "outputs": [],
   "source": [
    "data=np.load(Path(\"data/wflibdata\")/(ds+\"_full_info.npz\"))"
   ]
  },
  {
   "cell_type": "code",
   "execution_count": 22,
   "metadata": {},
   "outputs": [
    {
     "data": {
      "text/plain": [
       "array([[ 0.00000000e+00,  1.00000000e+00,  1.73900000e+03],\n",
       "       [ 1.73282623e-03, -1.00000000e+00,  5.75900000e+03],\n",
       "       [ 9.23929214e-02,  1.00000000e+00,  1.78500000e+03],\n",
       "       ...,\n",
       "       [ 0.00000000e+00,  0.00000000e+00,  0.00000000e+00],\n",
       "       [ 0.00000000e+00,  0.00000000e+00,  0.00000000e+00],\n",
       "       [ 0.00000000e+00,  0.00000000e+00,  0.00000000e+00]])"
      ]
     },
     "execution_count": 22,
     "metadata": {},
     "output_type": "execute_result"
    }
   ],
   "source": [
    "np.stack([X_ts,X_dir,X_size],axis=-1)[0]"
   ]
  }
 ],
 "metadata": {
  "kernelspec": {
   "display_name": "wfp",
   "language": "python",
   "name": "python3"
  },
  "language_info": {
   "codemirror_mode": {
    "name": "ipython",
    "version": 3
   },
   "file_extension": ".py",
   "mimetype": "text/x-python",
   "name": "python",
   "nbconvert_exporter": "python",
   "pygments_lexer": "ipython3",
   "version": "3.12.2"
  }
 },
 "nbformat": 4,
 "nbformat_minor": 2
}
